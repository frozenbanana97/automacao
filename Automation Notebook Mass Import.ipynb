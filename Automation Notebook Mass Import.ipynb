{
 "cells": [
  {
   "cell_type": "markdown",
   "metadata": {},
   "source": [
    "### Automation Script Overhaul \n",
    "For automating the parsing, transformation, and geographic file creation from .GPX<br><br>\n",
    "Work taken from the script by Isias (ler_gpx.py) and workflow by Simone. Further developments by Kyle & Isais. <br><br>\n",
    "Data collection must be done with Locus Map 4.x or formatted similarly to GPX files exportd by Locus Map 4 for this script to work."
   ]
  },
  {
   "cell_type": "markdown",
   "metadata": {},
   "source": [
    "### Section 1\n",
    "This section takes the raw GPX files and makes them ready for QGIS and statistical analysis."
   ]
  },
  {
   "cell_type": "code",
   "execution_count": 1,
   "metadata": {},
   "outputs": [
    {
     "data": {
      "text/plain": [
       "{'20220607_Kyle.gpx': 'file_20220607_Kyle.gpx',\n",
       " '20220610_Kyle.gpx': 'file_20220610_Kyle.gpx'}"
      ]
     },
     "execution_count": 1,
     "metadata": {},
     "output_type": "execute_result"
    }
   ],
   "source": [
    "import gpxpy\n",
    "import pandas as pd\n",
    "import geopandas as gpd\n",
    "import os\n",
    "from os import mkdir\n",
    "\n",
    "\n",
    "gpxDict = dict()\n",
    "\n",
    "for file in os.listdir():\n",
    "    if file.endswith('.gpx'):\n",
    "       gpxDict[file] = 'file_'+file\n",
    "gpxDict"
   ]
  },
  {
   "cell_type": "code",
   "execution_count": 2,
   "metadata": {},
   "outputs": [
    {
     "name": "stderr",
     "output_type": "stream",
     "text": [
      "/home/kyle/Nextcloud/Monkey Research/Data_Work/automacao/venvScanAutomation/lib/python3.8/site-packages/geopandas/io/file.py:362: FutureWarning: pandas.Int64Index is deprecated and will be removed from pandas in a future version. Use pandas.Index with the appropriate dtype instead.\n",
      "  pd.Int64Index,\n",
      "/home/kyle/Nextcloud/Monkey Research/Data_Work/automacao/venvScanAutomation/lib/python3.8/site-packages/geopandas/io/file.py:362: FutureWarning: pandas.Int64Index is deprecated and will be removed from pandas in a future version. Use pandas.Index with the appropriate dtype instead.\n",
      "  pd.Int64Index,\n"
     ]
    }
   ],
   "source": [
    "# merged = pd.DataFrame()\n",
    "\n",
    "for i in gpxDict:\n",
    "    \n",
    "    # Open and read in the .gpx to a dataframe / Abra e leia no .gpx para um dataframe\n",
    "    gpxCurrent = i\n",
    "    gpxCurrent = open(gpxCurrent)\n",
    "    gpxCurrent = gpxpy.parse(gpxCurrent)\n",
    "    gpxCurrent = gpxCurrent.to_xml()\n",
    "    df = pd.read_xml(gpxCurrent)\n",
    "\n",
    "    # Ask for observer, group, climate conditions / Pergunte por observador, grupo, condições climáticas\n",
    "    observer = input('Input for '+i+': Observer/Observador? ')\n",
    "    group = input('Input for '+i+': Group/Grupo? (if both, mark 0) ') # or leave blank?\n",
    "    weather = input('Input for '+i+': Weather conditions/Condição do clima? ')\n",
    "    \n",
    "    # Remove unecessary columns / Remova colunas desnecessárias\n",
    "    df.pop('desc')\n",
    "    df.pop('hdop')\n",
    "    df.pop('time')\n",
    "    df = df.drop(index=0)\n",
    "\n",
    "    # Reorganize columns / Reorganizar colunas\n",
    "    shiftPos = df.pop('name')\n",
    "    df.insert(0, 'name', shiftPos)\n",
    "\n",
    "    # Insert user input columns / Inserir colunas de entrada do usuário\n",
    "    df.insert(loc=1, column='observer', value=observer, allow_duplicates=True)\n",
    "    df.insert(loc=1, column='group', value=group, allow_duplicates=True)\n",
    "    df.insert(loc=1, column='weather', value=weather, allow_duplicates=True)\n",
    "\n",
    "    # Split 'name' into date, time, and observations / Dividir 'nome' em data, hora e observações\n",
    "    date = df['name'].str[:10]\n",
    "    df.insert(loc=0, column='date', value=date, allow_duplicates=True)\n",
    "\n",
    "    time = df['name'].str[11:19]\n",
    "    df.insert(loc=1, column='time', value=time, allow_duplicates=True)\n",
    "\n",
    "    obs = df['name'].str[19:]\n",
    "    df.insert(loc=2, column='observations', value=obs, allow_duplicates=True)\n",
    "\n",
    "    df.pop('name')\n",
    "\n",
    "    # solve observations issue\n",
    "\n",
    "    # nested for loop???\n",
    "    \n",
    "    # make time df for each scan\n",
    "\n",
    "\n",
    "    # make geographic and set crs\n",
    "    gdf = gpd.GeoDataFrame(df, geometry=gpd.points_from_xy(df.lon, df.lat)) \n",
    "    gdf = gdf.set_crs('EPSG:4326')\n",
    "\n",
    "    #export time gdf into gpkg and csv\n",
    "    gdf.to_file('scan_data.gpkg', driver=\"GPKG\", layer=i)\n",
    "\n",
    "    # Check and create save directory for csv files\n",
    "    savePath = './csvFiles'\n",
    "    isDir = os.path.isdir(savePath)\n",
    "    if isDir == False:\n",
    "        mkdir('csvFiles')\n",
    "    \n",
    "    # Save to csv\n",
    "    gdf.to_csv('csvFiles/'+i+'.csv')\n",
    "\n",
    "    # DEPRACATED Merge data frames one after another / Mesclar quadros de dados um após o outro\n",
    "    # DEPRACATED merged = pd.concat([merged,df],ignore_index=True) \n",
    "    \n",
    "# Convert to geodataframe for geographic use / Converter para geodataframe para uso geográfico\n",
    "# If Z is wanted for the points, add / se Z for desejado para os pontos, adicione ', df.ele' ex. (df.lon, df.lat, df.ele)\n",
    "# gdf = gpd.GeoDataFrame(merged, geometry=gpd.points_from_xy(merged.lon, merged.lat)) \n",
    "# gdf = gdf.set_crs('EPSG:4326')\n",
    "\n",
    "# gdf"
   ]
  },
  {
   "cell_type": "code",
   "execution_count": 3,
   "metadata": {},
   "outputs": [
    {
     "data": {
      "text/html": [
       "<div>\n",
       "<style scoped>\n",
       "    .dataframe tbody tr th:only-of-type {\n",
       "        vertical-align: middle;\n",
       "    }\n",
       "\n",
       "    .dataframe tbody tr th {\n",
       "        vertical-align: top;\n",
       "    }\n",
       "\n",
       "    .dataframe thead th {\n",
       "        text-align: right;\n",
       "    }\n",
       "</style>\n",
       "<table border=\"1\" class=\"dataframe\">\n",
       "  <thead>\n",
       "    <tr style=\"text-align: right;\">\n",
       "      <th></th>\n",
       "      <th>date</th>\n",
       "      <th>time</th>\n",
       "      <th>observations</th>\n",
       "      <th>weather</th>\n",
       "      <th>group</th>\n",
       "      <th>observer</th>\n",
       "      <th>lat</th>\n",
       "      <th>lon</th>\n",
       "      <th>ele</th>\n",
       "      <th>geometry</th>\n",
       "    </tr>\n",
       "  </thead>\n",
       "  <tbody>\n",
       "    <tr>\n",
       "      <th>1</th>\n",
       "      <td>2022-06-10</td>\n",
       "      <td>09:44:30</td>\n",
       "      <td>ni3sleep</td>\n",
       "      <td>2</td>\n",
       "      <td>2</td>\n",
       "      <td></td>\n",
       "      <td>-7.519595</td>\n",
       "      <td>-34.965499</td>\n",
       "      <td>90.0</td>\n",
       "      <td>POINT (-34.96550 -7.51959)</td>\n",
       "    </tr>\n",
       "    <tr>\n",
       "      <th>2</th>\n",
       "      <td>2022-06-10</td>\n",
       "      <td>09:45:49</td>\n",
       "      <td>m3</td>\n",
       "      <td>2</td>\n",
       "      <td>2</td>\n",
       "      <td></td>\n",
       "      <td>-7.519511</td>\n",
       "      <td>-34.965618</td>\n",
       "      <td>90.0</td>\n",
       "      <td>POINT (-34.96562 -7.51951)</td>\n",
       "    </tr>\n",
       "    <tr>\n",
       "      <th>3</th>\n",
       "      <td>2022-06-10</td>\n",
       "      <td>09:46:26</td>\n",
       "      <td>m4</td>\n",
       "      <td>2</td>\n",
       "      <td>2</td>\n",
       "      <td></td>\n",
       "      <td>-7.519585</td>\n",
       "      <td>-34.965594</td>\n",
       "      <td>90.0</td>\n",
       "      <td>POINT (-34.96559 -7.51959)</td>\n",
       "    </tr>\n",
       "    <tr>\n",
       "      <th>4</th>\n",
       "      <td>2022-06-10</td>\n",
       "      <td>09:46:40</td>\n",
       "      <td>f4</td>\n",
       "      <td>2</td>\n",
       "      <td>2</td>\n",
       "      <td></td>\n",
       "      <td>-7.519575</td>\n",
       "      <td>-34.965615</td>\n",
       "      <td>90.0</td>\n",
       "      <td>POINT (-34.96561 -7.51957)</td>\n",
       "    </tr>\n",
       "    <tr>\n",
       "      <th>5</th>\n",
       "      <td>2022-06-10</td>\n",
       "      <td>09:47:07</td>\n",
       "      <td>f3</td>\n",
       "      <td>2</td>\n",
       "      <td>2</td>\n",
       "      <td></td>\n",
       "      <td>-7.519643</td>\n",
       "      <td>-34.965541</td>\n",
       "      <td>90.0</td>\n",
       "      <td>POINT (-34.96554 -7.51964)</td>\n",
       "    </tr>\n",
       "    <tr>\n",
       "      <th>...</th>\n",
       "      <td>...</td>\n",
       "      <td>...</td>\n",
       "      <td>...</td>\n",
       "      <td>...</td>\n",
       "      <td>...</td>\n",
       "      <td>...</td>\n",
       "      <td>...</td>\n",
       "      <td>...</td>\n",
       "      <td>...</td>\n",
       "      <td>...</td>\n",
       "    </tr>\n",
       "    <tr>\n",
       "      <th>178</th>\n",
       "      <td>2022-06-10</td>\n",
       "      <td>12:42:59</td>\n",
       "      <td>m2</td>\n",
       "      <td>2</td>\n",
       "      <td>2</td>\n",
       "      <td></td>\n",
       "      <td>-7.520838</td>\n",
       "      <td>-34.965507</td>\n",
       "      <td>79.0</td>\n",
       "      <td>POINT (-34.96551 -7.52084)</td>\n",
       "    </tr>\n",
       "    <tr>\n",
       "      <th>179</th>\n",
       "      <td>2022-06-10</td>\n",
       "      <td>12:43:05</td>\n",
       "      <td>ago</td>\n",
       "      <td>2</td>\n",
       "      <td>2</td>\n",
       "      <td></td>\n",
       "      <td>-7.520940</td>\n",
       "      <td>-34.965517</td>\n",
       "      <td>78.0</td>\n",
       "      <td>POINT (-34.96552 -7.52094)</td>\n",
       "    </tr>\n",
       "    <tr>\n",
       "      <th>180</th>\n",
       "      <td>2022-06-10</td>\n",
       "      <td>12:43:21</td>\n",
       "      <td>f3</td>\n",
       "      <td>2</td>\n",
       "      <td>2</td>\n",
       "      <td></td>\n",
       "      <td>-7.520722</td>\n",
       "      <td>-34.965490</td>\n",
       "      <td>81.0</td>\n",
       "      <td>POINT (-34.96549 -7.52072)</td>\n",
       "    </tr>\n",
       "    <tr>\n",
       "      <th>181</th>\n",
       "      <td>2022-06-10</td>\n",
       "      <td>12:43:56</td>\n",
       "      <td>ni3</td>\n",
       "      <td>2</td>\n",
       "      <td>2</td>\n",
       "      <td></td>\n",
       "      <td>-7.520960</td>\n",
       "      <td>-34.965416</td>\n",
       "      <td>78.0</td>\n",
       "      <td>POINT (-34.96542 -7.52096)</td>\n",
       "    </tr>\n",
       "    <tr>\n",
       "      <th>182</th>\n",
       "      <td>2022-06-10</td>\n",
       "      <td>12:59:38</td>\n",
       "      <td>group</td>\n",
       "      <td>2</td>\n",
       "      <td>2</td>\n",
       "      <td></td>\n",
       "      <td>-7.517456</td>\n",
       "      <td>-34.967104</td>\n",
       "      <td>89.0</td>\n",
       "      <td>POINT (-34.96710 -7.51746)</td>\n",
       "    </tr>\n",
       "  </tbody>\n",
       "</table>\n",
       "<p>182 rows × 10 columns</p>\n",
       "</div>"
      ],
      "text/plain": [
       "           date      time observations weather group observer       lat  \\\n",
       "1    2022-06-10  09:44:30     ni3sleep       2     2          -7.519595   \n",
       "2    2022-06-10  09:45:49           m3       2     2          -7.519511   \n",
       "3    2022-06-10  09:46:26           m4       2     2          -7.519585   \n",
       "4    2022-06-10  09:46:40           f4       2     2          -7.519575   \n",
       "5    2022-06-10  09:47:07           f3       2     2          -7.519643   \n",
       "..          ...       ...          ...     ...   ...      ...       ...   \n",
       "178  2022-06-10  12:42:59           m2       2     2          -7.520838   \n",
       "179  2022-06-10  12:43:05          ago       2     2          -7.520940   \n",
       "180  2022-06-10  12:43:21           f3       2     2          -7.520722   \n",
       "181  2022-06-10  12:43:56          ni3       2     2          -7.520960   \n",
       "182  2022-06-10  12:59:38        group       2     2          -7.517456   \n",
       "\n",
       "           lon   ele                    geometry  \n",
       "1   -34.965499  90.0  POINT (-34.96550 -7.51959)  \n",
       "2   -34.965618  90.0  POINT (-34.96562 -7.51951)  \n",
       "3   -34.965594  90.0  POINT (-34.96559 -7.51959)  \n",
       "4   -34.965615  90.0  POINT (-34.96561 -7.51957)  \n",
       "5   -34.965541  90.0  POINT (-34.96554 -7.51964)  \n",
       "..         ...   ...                         ...  \n",
       "178 -34.965507  79.0  POINT (-34.96551 -7.52084)  \n",
       "179 -34.965517  78.0  POINT (-34.96552 -7.52094)  \n",
       "180 -34.965490  81.0  POINT (-34.96549 -7.52072)  \n",
       "181 -34.965416  78.0  POINT (-34.96542 -7.52096)  \n",
       "182 -34.967104  89.0  POINT (-34.96710 -7.51746)  \n",
       "\n",
       "[182 rows x 10 columns]"
      ]
     },
     "execution_count": 3,
     "metadata": {},
     "output_type": "execute_result"
    }
   ],
   "source": [
    "gdf"
   ]
  },
  {
   "cell_type": "code",
   "execution_count": null,
   "metadata": {},
   "outputs": [],
   "source": [
    "# # split observations into Age/Sex, Strata position, and behaviour\n",
    "# ageSex = ''\n",
    "# strata = ''\n",
    "# behaviour = ''\n",
    "# gdf.insert(loc=2, column='age/sex', value=ageSex, allow_duplicates=True)\n",
    "# gdf.insert(loc=3, column='strata', value=strata, allow_duplicates=True)\n",
    "# gdf.insert(loc=4, column='behaviour', value=behaviour, allow_duplicates=True)"
   ]
  },
  {
   "cell_type": "code",
   "execution_count": null,
   "metadata": {},
   "outputs": [],
   "source": [
    "# Run loop to identify age, sex, and behaviour\n",
    "for i, row in gdf.iterrows():\n",
    "        # asSubstring = gdf['observations'].str[:2]\n",
    "        if gdf['observations'].str[:2] == 'j2':\n",
    "                ageSex = 'Juvenile 2'\n",
    "                strata = gdf['observations'].str[2]\n",
    "                behaviour = gdf['observations'].str[3:]\n",
    "                gdf['age/sex']=ageSex\n",
    "                gdf['strata']=strata\n",
    "                gdf['behaviour']=behaviour\n",
    "                \n",
    "\n",
    "gdf.head()"
   ]
  },
  {
   "cell_type": "code",
   "execution_count": null,
   "metadata": {},
   "outputs": [],
   "source": [
    "gdf.to_csv('fulldata.csv')"
   ]
  },
  {
   "cell_type": "code",
   "execution_count": null,
   "metadata": {},
   "outputs": [],
   "source": [
    "# Attempt to detect each scan / Tente detectar cada varredura\n",
    "\n",
    "scanStart = gdf.at[0,'time']\n",
    "scanStart\n",
    "\n",
    "# scan 40 min interval, apply scan 1. Id any ago's and remove to seperate dataframe or just delete\n",
    "\n",
    "# remove ago into own scan id\n",
    "\n"
   ]
  },
  {
   "cell_type": "code",
   "execution_count": null,
   "metadata": {},
   "outputs": [],
   "source": [
    "# export each scan as individual file in gpkg"
   ]
  },
  {
   "cell_type": "markdown",
   "metadata": {},
   "source": [
    "#### Section 2\n",
    "Analysis of scans, analyze all of this for every individual scan"
   ]
  },
  {
   "cell_type": "code",
   "execution_count": null,
   "metadata": {},
   "outputs": [],
   "source": [
    "# Find centroid of each scan (collect geometries, find centroid)\n"
   ]
  },
  {
   "cell_type": "code",
   "execution_count": null,
   "metadata": {},
   "outputs": [],
   "source": [
    "# Distance of each point/animal to centroid\n"
   ]
  },
  {
   "cell_type": "code",
   "execution_count": null,
   "metadata": {},
   "outputs": [],
   "source": [
    "# points to polygons for area (ha) of group spread (convex hull)\n"
   ]
  },
  {
   "cell_type": "code",
   "execution_count": null,
   "metadata": {},
   "outputs": [],
   "source": [
    "# Distance between each centroid in temporal order\n"
   ]
  },
  {
   "cell_type": "code",
   "execution_count": null,
   "metadata": {},
   "outputs": [],
   "source": [
    "# Subgroups/cluster analysis, find clusters on eah scan and distance from each sub-centroid to main group centroid\n"
   ]
  },
  {
   "cell_type": "markdown",
   "metadata": {},
   "source": [
    "#### Export Data"
   ]
  },
  {
   "cell_type": "code",
   "execution_count": null,
   "metadata": {},
   "outputs": [],
   "source": [
    "# Export data frame to gpkg for use in QGIS / Exportar quadro de dados para gpkg para uso no QGIS\n",
    "gdf.to_file('gdf.gpkg', driver=\"GPKG\", layer='gdfExport')\n",
    "gdf.info()"
   ]
  },
  {
   "cell_type": "code",
   "execution_count": null,
   "metadata": {},
   "outputs": [],
   "source": [
    "gdf.plot()"
   ]
  }
 ],
 "metadata": {
  "interpreter": {
   "hash": "721752d912caa1798787a48d49dc55f567da66e2c166f2b94012337a164a3121"
  },
  "kernelspec": {
   "display_name": "Python 3.8.10 ('venvScanAutomation': venv)",
   "language": "python",
   "name": "python3"
  },
  "language_info": {
   "codemirror_mode": {
    "name": "ipython",
    "version": 3
   },
   "file_extension": ".py",
   "mimetype": "text/x-python",
   "name": "python",
   "nbconvert_exporter": "python",
   "pygments_lexer": "ipython3",
   "version": "3.8.10"
  },
  "orig_nbformat": 4
 },
 "nbformat": 4,
 "nbformat_minor": 2
}
