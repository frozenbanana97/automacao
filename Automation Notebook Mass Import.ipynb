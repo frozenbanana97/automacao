{
 "cells": [
  {
   "cell_type": "markdown",
   "metadata": {},
   "source": [
    "### Automation Script Overhaul \n",
    "For automating the parsing, transformation, and geographic file creation from .GPX<br><br>\n",
    "Work taken from the script by Isias (ler_gpx.py) and workflow by Simone. Further developments by Kyle & Isais. <br><br>\n",
    "Data collection must be done with Locus Map 4.x or formatted similarly to GPX files exportd by Locus Map 4 for this script to work."
   ]
  },
  {
   "cell_type": "markdown",
   "metadata": {},
   "source": [
    "### Section 1\n",
    "This section takes the raw GPX files and makes them ready for QGIS and statistical analysis."
   ]
  },
  {
   "cell_type": "code",
   "execution_count": 2,
   "metadata": {},
   "outputs": [
    {
     "data": {
      "text/plain": [
       "{'20220607_Kyle.gpx': 'file_20220607_Kyle.gpx',\n",
       " '20220610_Kyle.gpx': 'file_20220610_Kyle.gpx'}"
      ]
     },
     "execution_count": 2,
     "metadata": {},
     "output_type": "execute_result"
    }
   ],
   "source": [
    "import gpxpy\n",
    "import pandas as pd\n",
    "import geopandas as gpd\n",
    "import os\n",
    "\n",
    "gpxDict = dict()\n",
    "\n",
    "for file in os.listdir():\n",
    "    if file.endswith('.gpx'):\n",
    "       gpxDict[file] = 'file_'+file\n",
    "gpxDict"
   ]
  },
  {
   "cell_type": "code",
   "execution_count": 9,
   "metadata": {},
   "outputs": [
    {
     "data": {
      "text/html": [
       "<div>\n",
       "<style scoped>\n",
       "    .dataframe tbody tr th:only-of-type {\n",
       "        vertical-align: middle;\n",
       "    }\n",
       "\n",
       "    .dataframe tbody tr th {\n",
       "        vertical-align: top;\n",
       "    }\n",
       "\n",
       "    .dataframe thead th {\n",
       "        text-align: right;\n",
       "    }\n",
       "</style>\n",
       "<table border=\"1\" class=\"dataframe\">\n",
       "  <thead>\n",
       "    <tr style=\"text-align: right;\">\n",
       "      <th></th>\n",
       "      <th>date</th>\n",
       "      <th>time</th>\n",
       "      <th>observations</th>\n",
       "      <th>weather</th>\n",
       "      <th>group</th>\n",
       "      <th>observer</th>\n",
       "      <th>lat</th>\n",
       "      <th>lon</th>\n",
       "      <th>ele</th>\n",
       "      <th>geometry</th>\n",
       "    </tr>\n",
       "  </thead>\n",
       "  <tbody>\n",
       "    <tr>\n",
       "      <th>0</th>\n",
       "      <td>2022-06-07</td>\n",
       "      <td>13:46:24</td>\n",
       "      <td>j22</td>\n",
       "      <td>3</td>\n",
       "      <td>2</td>\n",
       "      <td>1</td>\n",
       "      <td>-7.517397</td>\n",
       "      <td>-34.967164</td>\n",
       "      <td>89.0</td>\n",
       "      <td>POINT (-34.96716 -7.51740)</td>\n",
       "    </tr>\n",
       "    <tr>\n",
       "      <th>1</th>\n",
       "      <td>2022-06-07</td>\n",
       "      <td>13:49:07</td>\n",
       "      <td>m4</td>\n",
       "      <td>3</td>\n",
       "      <td>2</td>\n",
       "      <td>1</td>\n",
       "      <td>-7.517351</td>\n",
       "      <td>-34.967194</td>\n",
       "      <td>89.0</td>\n",
       "      <td>POINT (-34.96719 -7.51735)</td>\n",
       "    </tr>\n",
       "    <tr>\n",
       "      <th>2</th>\n",
       "      <td>2022-06-07</td>\n",
       "      <td>13:50:24</td>\n",
       "      <td>j13</td>\n",
       "      <td>3</td>\n",
       "      <td>2</td>\n",
       "      <td>1</td>\n",
       "      <td>-7.517413</td>\n",
       "      <td>-34.967114</td>\n",
       "      <td>89.0</td>\n",
       "      <td>POINT (-34.96711 -7.51741)</td>\n",
       "    </tr>\n",
       "    <tr>\n",
       "      <th>3</th>\n",
       "      <td>2022-06-07</td>\n",
       "      <td>13:53:31</td>\n",
       "      <td>m4</td>\n",
       "      <td>3</td>\n",
       "      <td>2</td>\n",
       "      <td>1</td>\n",
       "      <td>-7.517787</td>\n",
       "      <td>-34.967158</td>\n",
       "      <td>84.0</td>\n",
       "      <td>POINT (-34.96716 -7.51779)</td>\n",
       "    </tr>\n",
       "    <tr>\n",
       "      <th>4</th>\n",
       "      <td>2022-06-07</td>\n",
       "      <td>13:54:10</td>\n",
       "      <td>m4</td>\n",
       "      <td>3</td>\n",
       "      <td>2</td>\n",
       "      <td>1</td>\n",
       "      <td>-7.517740</td>\n",
       "      <td>-34.967198</td>\n",
       "      <td>84.0</td>\n",
       "      <td>POINT (-34.96720 -7.51774)</td>\n",
       "    </tr>\n",
       "    <tr>\n",
       "      <th>...</th>\n",
       "      <td>...</td>\n",
       "      <td>...</td>\n",
       "      <td>...</td>\n",
       "      <td>...</td>\n",
       "      <td>...</td>\n",
       "      <td>...</td>\n",
       "      <td>...</td>\n",
       "      <td>...</td>\n",
       "      <td>...</td>\n",
       "      <td>...</td>\n",
       "    </tr>\n",
       "    <tr>\n",
       "      <th>243</th>\n",
       "      <td>2022-06-10</td>\n",
       "      <td>12:42:59</td>\n",
       "      <td>m2</td>\n",
       "      <td>6</td>\n",
       "      <td>5</td>\n",
       "      <td>4</td>\n",
       "      <td>-7.520838</td>\n",
       "      <td>-34.965507</td>\n",
       "      <td>79.0</td>\n",
       "      <td>POINT (-34.96551 -7.52084)</td>\n",
       "    </tr>\n",
       "    <tr>\n",
       "      <th>244</th>\n",
       "      <td>2022-06-10</td>\n",
       "      <td>12:43:05</td>\n",
       "      <td>ago</td>\n",
       "      <td>6</td>\n",
       "      <td>5</td>\n",
       "      <td>4</td>\n",
       "      <td>-7.520940</td>\n",
       "      <td>-34.965517</td>\n",
       "      <td>78.0</td>\n",
       "      <td>POINT (-34.96552 -7.52094)</td>\n",
       "    </tr>\n",
       "    <tr>\n",
       "      <th>245</th>\n",
       "      <td>2022-06-10</td>\n",
       "      <td>12:43:21</td>\n",
       "      <td>f3</td>\n",
       "      <td>6</td>\n",
       "      <td>5</td>\n",
       "      <td>4</td>\n",
       "      <td>-7.520722</td>\n",
       "      <td>-34.965490</td>\n",
       "      <td>81.0</td>\n",
       "      <td>POINT (-34.96549 -7.52072)</td>\n",
       "    </tr>\n",
       "    <tr>\n",
       "      <th>246</th>\n",
       "      <td>2022-06-10</td>\n",
       "      <td>12:43:56</td>\n",
       "      <td>ni3</td>\n",
       "      <td>6</td>\n",
       "      <td>5</td>\n",
       "      <td>4</td>\n",
       "      <td>-7.520960</td>\n",
       "      <td>-34.965416</td>\n",
       "      <td>78.0</td>\n",
       "      <td>POINT (-34.96542 -7.52096)</td>\n",
       "    </tr>\n",
       "    <tr>\n",
       "      <th>247</th>\n",
       "      <td>2022-06-10</td>\n",
       "      <td>12:59:38</td>\n",
       "      <td>group</td>\n",
       "      <td>6</td>\n",
       "      <td>5</td>\n",
       "      <td>4</td>\n",
       "      <td>-7.517456</td>\n",
       "      <td>-34.967104</td>\n",
       "      <td>89.0</td>\n",
       "      <td>POINT (-34.96710 -7.51746)</td>\n",
       "    </tr>\n",
       "  </tbody>\n",
       "</table>\n",
       "<p>248 rows × 10 columns</p>\n",
       "</div>"
      ],
      "text/plain": [
       "           date      time observations weather group observer       lat  \\\n",
       "0    2022-06-07  13:46:24          j22       3     2        1 -7.517397   \n",
       "1    2022-06-07  13:49:07           m4       3     2        1 -7.517351   \n",
       "2    2022-06-07  13:50:24          j13       3     2        1 -7.517413   \n",
       "3    2022-06-07  13:53:31           m4       3     2        1 -7.517787   \n",
       "4    2022-06-07  13:54:10           m4       3     2        1 -7.517740   \n",
       "..          ...       ...          ...     ...   ...      ...       ...   \n",
       "243  2022-06-10  12:42:59           m2       6     5        4 -7.520838   \n",
       "244  2022-06-10  12:43:05          ago       6     5        4 -7.520940   \n",
       "245  2022-06-10  12:43:21           f3       6     5        4 -7.520722   \n",
       "246  2022-06-10  12:43:56          ni3       6     5        4 -7.520960   \n",
       "247  2022-06-10  12:59:38        group       6     5        4 -7.517456   \n",
       "\n",
       "           lon   ele                    geometry  \n",
       "0   -34.967164  89.0  POINT (-34.96716 -7.51740)  \n",
       "1   -34.967194  89.0  POINT (-34.96719 -7.51735)  \n",
       "2   -34.967114  89.0  POINT (-34.96711 -7.51741)  \n",
       "3   -34.967158  84.0  POINT (-34.96716 -7.51779)  \n",
       "4   -34.967198  84.0  POINT (-34.96720 -7.51774)  \n",
       "..         ...   ...                         ...  \n",
       "243 -34.965507  79.0  POINT (-34.96551 -7.52084)  \n",
       "244 -34.965517  78.0  POINT (-34.96552 -7.52094)  \n",
       "245 -34.965490  81.0  POINT (-34.96549 -7.52072)  \n",
       "246 -34.965416  78.0  POINT (-34.96542 -7.52096)  \n",
       "247 -34.967104  89.0  POINT (-34.96710 -7.51746)  \n",
       "\n",
       "[248 rows x 10 columns]"
      ]
     },
     "execution_count": 9,
     "metadata": {},
     "output_type": "execute_result"
    }
   ],
   "source": [
    "merged = pd.DataFrame()\n",
    "\n",
    "for i in gpxDict:\n",
    "    \n",
    "    #open and read in the .gpx to a dataframe\n",
    "    gpxCurrent = i\n",
    "    gpxCurrent = open(gpxCurrent)\n",
    "    gpxCurrent = gpxpy.parse(gpxCurrent)\n",
    "    gpxCurrent = gpxCurrent.to_xml()\n",
    "    df = pd.read_xml(gpxCurrent)\n",
    "\n",
    "    # Ask for observer, group, climate conditions / Pergunte por observador, grupo, condições climáticas\n",
    "    observer = input('Input for '+i+': Observer/Observador? ')\n",
    "    group = input('Input for '+i+': Group/Grupo? (if both, mark 0) ') # or leave blank?\n",
    "    weather = input('Input for '+i+': Weather conditions/Condição do clima? ')\n",
    "    \n",
    "    #remove unecessary columns\n",
    "    df.pop('desc')\n",
    "    df.pop('hdop')\n",
    "    df.pop('time')\n",
    "    df = df.drop(index=0)\n",
    "\n",
    "    #reorganize columns\n",
    "    shiftPos = df.pop('name')\n",
    "    df.insert(0, 'name', shiftPos)\n",
    "\n",
    "    # insert user input columns\n",
    "    df.insert(loc=1, column='observer', value=observer, allow_duplicates=True)\n",
    "    df.insert(loc=1, column='group', value=group, allow_duplicates=True)\n",
    "    df.insert(loc=1, column='weather', value=weather, allow_duplicates=True)\n",
    "\n",
    "    # Split 'name' into date, time, and observations / Dividir 'nome' em data, hora e observações\n",
    "    date = df['name'].str[:10]\n",
    "    df.insert(loc=0, column='date', value=date, allow_duplicates=True)\n",
    "\n",
    "    time = df['name'].str[11:19]\n",
    "    df.insert(loc=1, column='time', value=time, allow_duplicates=True)\n",
    "\n",
    "    obs = df['name'].str[19:]\n",
    "    df.insert(loc=2, column='observations', value=obs, allow_duplicates=True)\n",
    "\n",
    "    df.pop('name')\n",
    "\n",
    "    # merge data frames one after another\n",
    "    merged = pd.concat([merged,df],ignore_index=True) \n",
    "    \n",
    "# Convert to geodataframe for geographic use / Converter para geodataframe para uso geográfico\n",
    "gdf = gpd.GeoDataFrame(merged, geometry=gpd.points_from_xy(merged.lon, merged.lat)) # if Z is wanted for the points, add / se Z for desejado para os pontos, adicione ', df.ele' ex. (df.lon, df.lat, df.ele)\n",
    "gdf = gdf.set_crs('EPSG:4326')\n",
    "\n",
    "gdf"
   ]
  },
  {
   "cell_type": "code",
   "execution_count": null,
   "metadata": {},
   "outputs": [],
   "source": [
    "# # split observations into Age/Sex, Strata position, and behaviour\n",
    "# ageSex = ''\n",
    "# strata = ''\n",
    "# behaviour = ''\n",
    "# gdf.insert(loc=2, column='age/sex', value=ageSex, allow_duplicates=True)\n",
    "# gdf.insert(loc=3, column='strata', value=strata, allow_duplicates=True)\n",
    "# gdf.insert(loc=4, column='behaviour', value=behaviour, allow_duplicates=True)"
   ]
  },
  {
   "cell_type": "code",
   "execution_count": null,
   "metadata": {},
   "outputs": [],
   "source": [
    "# Run loop to identify age, sex, and behaviour\n",
    "for i, row in gdf.iterrows():\n",
    "        # asSubstring = gdf['observations'].str[:2]\n",
    "        if gdf['observations'].str[:2] == 'j2':\n",
    "                ageSex = 'Juvenile 2'\n",
    "                strata = gdf['observations'].str[2]\n",
    "                behaviour = gdf['observations'].str[3:]\n",
    "                gdf['age/sex']=ageSex\n",
    "                gdf['strata']=strata\n",
    "                gdf['behaviour']=behaviour\n",
    "                \n",
    "\n",
    "gdf.head()"
   ]
  },
  {
   "cell_type": "code",
   "execution_count": null,
   "metadata": {},
   "outputs": [],
   "source": [
    "gdf.head()"
   ]
  },
  {
   "cell_type": "code",
   "execution_count": null,
   "metadata": {},
   "outputs": [],
   "source": [
    "# Attempt to detect each scan, else create column for scan number / Tente detectar cada varredura, senão crie uma coluna para o número da varredura\n"
   ]
  },
  {
   "cell_type": "markdown",
   "metadata": {},
   "source": [
    "#### Section 2\n",
    "Analysis of scans, analyze all of this for every individual scan"
   ]
  },
  {
   "cell_type": "code",
   "execution_count": null,
   "metadata": {},
   "outputs": [],
   "source": [
    "# Find centroid of each scan (collect geometries, find centroid)\n"
   ]
  },
  {
   "cell_type": "code",
   "execution_count": null,
   "metadata": {},
   "outputs": [],
   "source": [
    "# Distance of each point/animal to centroid\n"
   ]
  },
  {
   "cell_type": "code",
   "execution_count": null,
   "metadata": {},
   "outputs": [],
   "source": [
    "# points to polygons for area (ha) of group spread (convex hull)\n"
   ]
  },
  {
   "cell_type": "code",
   "execution_count": null,
   "metadata": {},
   "outputs": [],
   "source": [
    "# Distance between each centroid in temporal order\n"
   ]
  },
  {
   "cell_type": "code",
   "execution_count": null,
   "metadata": {},
   "outputs": [],
   "source": [
    "# Subgroups/cluster analysis, find clusters on eah scan and distance from each sub-centroid to main group centroid\n"
   ]
  },
  {
   "cell_type": "markdown",
   "metadata": {},
   "source": [
    "#### Export Data"
   ]
  },
  {
   "cell_type": "code",
   "execution_count": null,
   "metadata": {},
   "outputs": [],
   "source": [
    "# Export data frame to gpkg for use in QGIS / Exportar quadro de dados para gpkg para uso no QGIS\n",
    "gdf.to_file('gdf.gpkg', driver=\"GPKG\")\n",
    "gdf.info()"
   ]
  },
  {
   "cell_type": "code",
   "execution_count": null,
   "metadata": {},
   "outputs": [],
   "source": [
    "gdf.plot()"
   ]
  }
 ],
 "metadata": {
  "interpreter": {
   "hash": "721752d912caa1798787a48d49dc55f567da66e2c166f2b94012337a164a3121"
  },
  "kernelspec": {
   "display_name": "Python 3.8.10 ('venvScanAutomation': venv)",
   "language": "python",
   "name": "python3"
  },
  "language_info": {
   "codemirror_mode": {
    "name": "ipython",
    "version": 3
   },
   "file_extension": ".py",
   "mimetype": "text/x-python",
   "name": "python",
   "nbconvert_exporter": "python",
   "pygments_lexer": "ipython3",
   "version": "3.8.10"
  },
  "orig_nbformat": 4
 },
 "nbformat": 4,
 "nbformat_minor": 2
}
