{
 "cells": [
  {
   "cell_type": "markdown",
   "metadata": {},
   "source": [
    "### Automation Script Overhaul \n",
    "For automating the parsing, transformation, and geographic file creation from .GPX<br><br>\n",
    "Work taken from the script by Isias (ler_gpx.py) and workflow by Simone. Further developments by Kyle & Isais. <br><br>\n",
    "Data collection must be done with Locus Map 4.x or formatted similarly to GPX files exportd by Locus Map 4 for this script to work."
   ]
  },
  {
   "cell_type": "markdown",
   "metadata": {},
   "source": [
    "### Section 1\n",
    "This section takes the raw GPX files and makes them ready for QGIS and statistical analysis."
   ]
  },
  {
   "cell_type": "code",
   "execution_count": null,
   "metadata": {},
   "outputs": [],
   "source": [
    "import gpxpy\n",
    "import pandas as pd\n",
    "import geopandas as gpd\n",
    "import os\n",
    "from os import mkdir\n",
    "from datetime import datetime, timedelta\n",
    "\n",
    "gpxDict = dict()\n",
    "\n",
    "for file in os.listdir():\n",
    "    if file.endswith('.gpx'):\n",
    "       gpxDict[file] = 'file_'+file\n",
    "gpxDict"
   ]
  },
  {
   "cell_type": "markdown",
   "metadata": {},
   "source": [
    "##### Daily Data\n",
    "This next for loop / cell will create files with the data sorted by day and must be run before creaating data files by scan."
   ]
  },
  {
   "cell_type": "code",
   "execution_count": null,
   "metadata": {},
   "outputs": [],
   "source": [
    "# merged = pd.DataFrame()\n",
    "\n",
    "for i in gpxDict:\n",
    "    \n",
    "    # Open and read in the .gpx to a dataframe / Abra e leia no .gpx para um dataframe\n",
    "    gpxCurrent = i\n",
    "    gpxCurrent = open(gpxCurrent)\n",
    "    gpxCurrent = gpxpy.parse(gpxCurrent)\n",
    "    gpxCurrent = gpxCurrent.to_xml()\n",
    "    df = pd.read_xml(gpxCurrent)\n",
    "\n",
    "    # Ask for observer, group, climate conditions / Pergunte por observador, grupo, condições climáticas\n",
    "    observer = input('Input for '+i+': Observer/Observador? ')\n",
    "    group = input('Input for '+i+': Group/Grupo? (if both, mark 0) ') # or leave blank?\n",
    "    weather = input('Input for '+i+': Weather conditions/Condição do clima? ')\n",
    "    \n",
    "    # Remove unecessary columns / Remova colunas desnecessárias\n",
    "    df.pop('desc')\n",
    "    df.pop('hdop')\n",
    "    df.pop('time')\n",
    "    df = df.drop(index=0)\n",
    "\n",
    "    # Reorganize columns / Reorganizar colunas\n",
    "    shiftPos = df.pop('name')\n",
    "    df.insert(0, 'name', shiftPos)\n",
    "\n",
    "    # Insert user input columns / Inserir colunas de entrada do usuário\n",
    "    df.insert(loc=1, column='observer', value=observer, allow_duplicates=True)\n",
    "    df.insert(loc=1, column='group', value=group, allow_duplicates=True)\n",
    "    df.insert(loc=1, column='weather', value=weather, allow_duplicates=True)\n",
    "\n",
    "    # Split 'name' into date, time, and observations / Dividir 'nome' em data, hora e observações\n",
    "    date = df['name'].str[:10]\n",
    "    df.insert(loc=0, column='date', value=date, allow_duplicates=True)\n",
    "\n",
    "    time = df['name'].str[11:19]\n",
    "    df.insert(loc=1, column='time', value=time, allow_duplicates=True)\n",
    "\n",
    "    obs = df['name'].str[19:]\n",
    "    df.insert(loc=2, column='observations', value=obs, allow_duplicates=True)\n",
    "\n",
    "    df.pop('name')\n",
    "\n",
    "    # solve observations issue\n",
    "\n",
    "    # Setup time variables for scan labeling / Variáveis de tempo de configuração para rotulagem de digitalização\n",
    "    scanStart = df.at[1,'time']\n",
    "    scanStart = datetime.strptime(scanStart,'%H:%M:%S')\n",
    "    scanEnd = scanStart + timedelta(minutes=20)\n",
    "    df.insert(loc=2, column='scan', value=0, allow_duplicates=True)\n",
    "    scanMins = 20\n",
    "\n",
    "    # Create list for temporary storage of scan ID's / Criar lista para armazenamento temporário de IDs de digitalização\n",
    "    scanNum = []\n",
    "\n",
    "    # Loop to check each time against the times for each day and assign scan ID\n",
    "    # Faça um loop para verificar cada vez em relação aos horários de cada dia e atribuir a ID de verificação\n",
    "    for row in df['time']:\n",
    "        row = datetime.strptime(row,'%H:%M:%S')\n",
    "        if scanStart <= row <= scanEnd:\n",
    "            scanNum.append('1')\n",
    "        elif (scanStart + timedelta(minutes=scanMins*2)) <= row <= (scanEnd + timedelta(minutes=scanMins*2)):\n",
    "            scanNum.append('2')\n",
    "        elif (scanStart + timedelta(minutes=scanMins*4)) <= row <= (scanEnd + timedelta(minutes=scanMins*4)):\n",
    "            scanNum.append('3')\n",
    "        elif (scanStart + timedelta(minutes=scanMins*6)) <= row <= (scanEnd + timedelta(minutes=scanMins*6)):\n",
    "            scanNum.append('4')\n",
    "        elif (scanStart + timedelta(minutes=scanMins*8)) <= row <= (scanEnd + timedelta(minutes=scanMins*8)):\n",
    "            scanNum.append('5')\n",
    "        elif (scanStart + timedelta(minutes=scanMins*10)) <= row <= (scanEnd + timedelta(minutes=scanMins*10)):\n",
    "            scanNum.append('6')\n",
    "        elif (scanStart + timedelta(minutes=scanMins*12)) <= row <= (scanEnd + timedelta(minutes=scanMins*12)):\n",
    "            scanNum.append('7')\n",
    "        elif (scanStart + timedelta(minutes=scanMins*14)) <= row <= (scanEnd + timedelta(minutes=scanMins*14)):\n",
    "            scanNum.append('8')\n",
    "        elif (scanStart + timedelta(minutes=scanMins*16)) <= row <= (scanEnd + timedelta(minutes=scanMins*16)):\n",
    "            scanNum.append('9')\n",
    "        elif (scanStart + timedelta(minutes=scanMins*18)) <= row <= (scanEnd + timedelta(minutes=scanMins*18)):\n",
    "            scanNum.append('10')\n",
    "        elif (scanStart + timedelta(minutes=scanMins*20)) <= row <= (scanEnd + timedelta(minutes=scanMins*20)):\n",
    "            scanNum.append('11')\n",
    "        elif (scanStart + timedelta(minutes=scanMins*22)) <= row <= (scanEnd + timedelta(minutes=scanMins*22)):\n",
    "            scanNum.append('12')\n",
    "        elif (scanStart + timedelta(minutes=scanMins*24)) <= row <= (scanEnd + timedelta(minutes=scanMins*24)):\n",
    "            scanNum.append('13')\n",
    "        elif (scanStart + timedelta(minutes=scanMins*26)) <= row <= (scanEnd + timedelta(minutes=scanMins*26)):\n",
    "            scanNum.append('14')\n",
    "        elif (scanStart + timedelta(minutes=scanMins*28)) <= row <= (scanEnd + timedelta(minutes=scanMins*28)):\n",
    "            scanNum.append('15')\n",
    "        elif (scanStart + timedelta(minutes=scanMins*30)) <= row <= (scanEnd + timedelta(minutes=scanMins*30)):\n",
    "            scanNum.append('16')\n",
    "\n",
    "        # If no times fit, apply N/A / Se nenhum tempo se encaixar, aplique N/A\n",
    "        else:\n",
    "            scanNum.append('N/A') \n",
    "\n",
    "    # Apply scan ID list to the dataframe / Aplicar lista de IDs de varredura ao dataframe\n",
    "    df['scan'] = scanNum\n",
    "\n",
    "    # Make geographic and set CRS / Faça geográfica e defina CRS\n",
    "    gdf = gpd.GeoDataFrame(df, geometry=gpd.points_from_xy(df.lon, df.lat)) \n",
    "    gdf = gdf.set_crs('EPSG:4326')\n",
    "\n",
    "    # Export gdf into gpkg / Exportar gdf para gpkg\n",
    "    gdf.to_file('daily_data.gpkg', driver=\"GPKG\", layer=i)\n",
    "\n",
    "    # Check and create save directory for csv files / Verifique e crie um diretório de salvamento para arquivos csv\n",
    "    savePath = './csvDayFiles'\n",
    "    isDir = os.path.isdir(savePath)\n",
    "    if isDir == False:\n",
    "        mkdir('csvDayFiles')\n",
    "    \n",
    "    # Save to csv / Salvar em csv\n",
    "    gdf.to_csv('csvDayFiles/'+i[:-4]+'.csv')"
   ]
  },
  {
   "cell_type": "code",
   "execution_count": null,
   "metadata": {},
   "outputs": [],
   "source": [
    "# # split observations into Age/Sex, Strata position, and behaviour\n",
    "# ageSex = ''\n",
    "# strata = ''\n",
    "# behaviour = ''\n",
    "# gdf.insert(loc=2, column='age/sex', value=ageSex, allow_duplicates=True)\n",
    "# gdf.insert(loc=3, column='strata', value=strata, allow_duplicates=True)\n",
    "# gdf.insert(loc=4, column='behaviour', value=behaviour, allow_duplicates=True)"
   ]
  },
  {
   "cell_type": "code",
   "execution_count": null,
   "metadata": {},
   "outputs": [],
   "source": [
    "#IF OBS ENDS WITH NUMBER\n",
    "# df['side'] = df.id.str[-1] #CHECK LAST DIGIT FOR NUMBER\n",
    "# IF NUMBER REMOVE NUMBER AS STRATA\n",
    "\n",
    "\n",
    "# Run loop to identify age, sex, and behaviour\n",
    "for i, row in gdf.iterrows():\n",
    "        # asSubstring = gdf['observations'].str[:2]\n",
    "        if gdf['observations'].str[:2] == 'j2':\n",
    "                ageSex = 'Juvenile 2'\n",
    "                strata = gdf['observations'].str[2]\n",
    "                behaviour = gdf['observations'].str[3:]\n",
    "                gdf['age/sex']=ageSex\n",
    "                gdf['strata']=strata\n",
    "                gdf['behaviour']=behaviour\n",
    "                \n",
    "\n",
    "gdf.head()"
   ]
  },
  {
   "cell_type": "markdown",
   "metadata": {},
   "source": [
    "##### Scan by scan data\n",
    "This next cell will take the daily data (after manual cleanup preferably) and create new data files organized by date and scan number."
   ]
  },
  {
   "cell_type": "code",
   "execution_count": null,
   "metadata": {},
   "outputs": [],
   "source": [
    "# export each scan as individual file in gpkg and csv"
   ]
  },
  {
   "cell_type": "markdown",
   "metadata": {},
   "source": [
    "#### Section 2\n",
    "Analysis of scans, analyze all of this for every individual scan"
   ]
  },
  {
   "cell_type": "code",
   "execution_count": null,
   "metadata": {},
   "outputs": [],
   "source": [
    "# Find centroid of each scan (collect geometries, find centroid)\n"
   ]
  },
  {
   "cell_type": "code",
   "execution_count": null,
   "metadata": {},
   "outputs": [],
   "source": [
    "# Distance of each point/animal to centroid\n"
   ]
  },
  {
   "cell_type": "code",
   "execution_count": null,
   "metadata": {},
   "outputs": [],
   "source": [
    "# points to polygons for area (ha) of group spread (convex hull)\n"
   ]
  },
  {
   "cell_type": "code",
   "execution_count": null,
   "metadata": {},
   "outputs": [],
   "source": [
    "# Distance between each centroid in temporal order\n"
   ]
  },
  {
   "cell_type": "code",
   "execution_count": null,
   "metadata": {},
   "outputs": [],
   "source": [
    "# Subgroups/cluster analysis, find clusters on eah scan and distance from each sub-centroid to main group centroid\n"
   ]
  },
  {
   "cell_type": "markdown",
   "metadata": {},
   "source": [
    "#### Export Data"
   ]
  },
  {
   "cell_type": "code",
   "execution_count": null,
   "metadata": {},
   "outputs": [],
   "source": [
    "# Export data frame to gpkg for use in QGIS / Exportar quadro de dados para gpkg para uso no QGIS\n",
    "gdf.to_file('gdf.gpkg', driver=\"GPKG\", layer='gdfExport')\n",
    "gdf.info()"
   ]
  },
  {
   "cell_type": "code",
   "execution_count": null,
   "metadata": {},
   "outputs": [],
   "source": [
    "gdf.plot()"
   ]
  }
 ],
 "metadata": {
  "interpreter": {
   "hash": "721752d912caa1798787a48d49dc55f567da66e2c166f2b94012337a164a3121"
  },
  "kernelspec": {
   "display_name": "Python 3.8.10 ('venvScanAutomation': venv)",
   "language": "python",
   "name": "python3"
  },
  "language_info": {
   "codemirror_mode": {
    "name": "ipython",
    "version": 3
   },
   "file_extension": ".py",
   "mimetype": "text/x-python",
   "name": "python",
   "nbconvert_exporter": "python",
   "pygments_lexer": "ipython3",
   "version": "3.8.10"
  },
  "orig_nbformat": 4
 },
 "nbformat": 4,
 "nbformat_minor": 2
}
