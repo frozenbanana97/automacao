{
 "cells": [
  {
   "cell_type": "markdown",
   "metadata": {},
   "source": [
    "### Automation Script Overhaul \n",
    "For automating the parsing, transformation, and geographic file creation from .GPX\n",
    "Work taken from the script by Isias (ler_gpx.py) and workflow by Simone. Further developments by Kyle & Isais."
   ]
  },
  {
   "cell_type": "markdown",
   "metadata": {},
   "source": [
    "### Section 1\n",
    "This section takes the raw GPX files and makes them analysis ready for QGIS and statistical analysis."
   ]
  },
  {
   "cell_type": "code",
   "execution_count": 30,
   "metadata": {},
   "outputs": [
    {
     "name": "stdout",
     "output_type": "stream",
     "text": [
      "['ler.gpx', '20220607.gpx']\n"
     ]
    }
   ],
   "source": [
    "#import dependiencies\n",
    "import gpxpy\n",
    "import pandas as pd\n",
    "import geopandas as gpd\n",
    "from glob import glob\n",
    "\n",
    "gpxFiles = glob('*.gpx')\n",
    "print(gpxFiles)"
   ]
  },
  {
   "cell_type": "code",
   "execution_count": 64,
   "metadata": {},
   "outputs": [
    {
     "data": {
      "text/html": [
       "<div>\n",
       "<style scoped>\n",
       "    .dataframe tbody tr th:only-of-type {\n",
       "        vertical-align: middle;\n",
       "    }\n",
       "\n",
       "    .dataframe tbody tr th {\n",
       "        vertical-align: top;\n",
       "    }\n",
       "\n",
       "    .dataframe thead th {\n",
       "        text-align: right;\n",
       "    }\n",
       "</style>\n",
       "<table border=\"1\" class=\"dataframe\">\n",
       "  <thead>\n",
       "    <tr style=\"text-align: right;\">\n",
       "      <th></th>\n",
       "      <th>name</th>\n",
       "      <th>lat</th>\n",
       "      <th>lon</th>\n",
       "      <th>ele</th>\n",
       "    </tr>\n",
       "  </thead>\n",
       "  <tbody>\n",
       "    <tr>\n",
       "      <th>1</th>\n",
       "      <td>2022-06-07 13:46:24j22</td>\n",
       "      <td>-7.517397</td>\n",
       "      <td>-34.967164</td>\n",
       "      <td>89.0</td>\n",
       "    </tr>\n",
       "    <tr>\n",
       "      <th>2</th>\n",
       "      <td>2022-06-07 13:49:07m4</td>\n",
       "      <td>-7.517351</td>\n",
       "      <td>-34.967194</td>\n",
       "      <td>89.0</td>\n",
       "    </tr>\n",
       "    <tr>\n",
       "      <th>3</th>\n",
       "      <td>2022-06-07 13:50:24j13</td>\n",
       "      <td>-7.517413</td>\n",
       "      <td>-34.967114</td>\n",
       "      <td>89.0</td>\n",
       "    </tr>\n",
       "    <tr>\n",
       "      <th>4</th>\n",
       "      <td>2022-06-07 13:53:31m4</td>\n",
       "      <td>-7.517787</td>\n",
       "      <td>-34.967158</td>\n",
       "      <td>84.0</td>\n",
       "    </tr>\n",
       "    <tr>\n",
       "      <th>5</th>\n",
       "      <td>2022-06-07 13:54:10m4</td>\n",
       "      <td>-7.517740</td>\n",
       "      <td>-34.967198</td>\n",
       "      <td>84.0</td>\n",
       "    </tr>\n",
       "  </tbody>\n",
       "</table>\n",
       "</div>"
      ],
      "text/plain": [
       "                     name       lat        lon   ele\n",
       "1  2022-06-07 13:46:24j22 -7.517397 -34.967164  89.0\n",
       "2   2022-06-07 13:49:07m4 -7.517351 -34.967194  89.0\n",
       "3  2022-06-07 13:50:24j13 -7.517413 -34.967114  89.0\n",
       "4   2022-06-07 13:53:31m4 -7.517787 -34.967158  84.0\n",
       "5   2022-06-07 13:54:10m4 -7.517740 -34.967198  84.0"
      ]
     },
     "execution_count": 64,
     "metadata": {},
     "output_type": "execute_result"
    }
   ],
   "source": [
    "#Choose which file (or all in directory) to use\n",
    "gpxCurrent = gpxFiles[1] #select (using 0-n) the gpx file to manipulate\n",
    "gpxCurrent = open(gpxCurrent)\n",
    "gpxCurrent = gpxpy.parse(gpxCurrent)\n",
    "gpxCurrent = gpxCurrent.to_xml()\n",
    "df = pd.read_xml(gpxCurrent)\n",
    "df.pop('desc')\n",
    "df.pop('hdop')\n",
    "df.pop('time')\n",
    "df = df.drop(index=0)\n",
    "shiftPos = df.pop('name')\n",
    "df.insert(0, 'name', shiftPos)\n",
    "df.head()"
   ]
  },
  {
   "cell_type": "code",
   "execution_count": 65,
   "metadata": {},
   "outputs": [
    {
     "data": {
      "text/html": [
       "<div>\n",
       "<style scoped>\n",
       "    .dataframe tbody tr th:only-of-type {\n",
       "        vertical-align: middle;\n",
       "    }\n",
       "\n",
       "    .dataframe tbody tr th {\n",
       "        vertical-align: top;\n",
       "    }\n",
       "\n",
       "    .dataframe thead th {\n",
       "        text-align: right;\n",
       "    }\n",
       "</style>\n",
       "<table border=\"1\" class=\"dataframe\">\n",
       "  <thead>\n",
       "    <tr style=\"text-align: right;\">\n",
       "      <th></th>\n",
       "      <th>name</th>\n",
       "      <th>lat</th>\n",
       "      <th>lon</th>\n",
       "      <th>ele</th>\n",
       "      <th>geometry</th>\n",
       "    </tr>\n",
       "  </thead>\n",
       "  <tbody>\n",
       "    <tr>\n",
       "      <th>1</th>\n",
       "      <td>2022-06-07 13:46:24j22</td>\n",
       "      <td>-7.517397</td>\n",
       "      <td>-34.967164</td>\n",
       "      <td>89.0</td>\n",
       "      <td>POINT (-34.96716 -7.51740)</td>\n",
       "    </tr>\n",
       "    <tr>\n",
       "      <th>2</th>\n",
       "      <td>2022-06-07 13:49:07m4</td>\n",
       "      <td>-7.517351</td>\n",
       "      <td>-34.967194</td>\n",
       "      <td>89.0</td>\n",
       "      <td>POINT (-34.96719 -7.51735)</td>\n",
       "    </tr>\n",
       "    <tr>\n",
       "      <th>3</th>\n",
       "      <td>2022-06-07 13:50:24j13</td>\n",
       "      <td>-7.517413</td>\n",
       "      <td>-34.967114</td>\n",
       "      <td>89.0</td>\n",
       "      <td>POINT (-34.96711 -7.51741)</td>\n",
       "    </tr>\n",
       "    <tr>\n",
       "      <th>4</th>\n",
       "      <td>2022-06-07 13:53:31m4</td>\n",
       "      <td>-7.517787</td>\n",
       "      <td>-34.967158</td>\n",
       "      <td>84.0</td>\n",
       "      <td>POINT (-34.96716 -7.51779)</td>\n",
       "    </tr>\n",
       "    <tr>\n",
       "      <th>5</th>\n",
       "      <td>2022-06-07 13:54:10m4</td>\n",
       "      <td>-7.517740</td>\n",
       "      <td>-34.967198</td>\n",
       "      <td>84.0</td>\n",
       "      <td>POINT (-34.96720 -7.51774)</td>\n",
       "    </tr>\n",
       "  </tbody>\n",
       "</table>\n",
       "</div>"
      ],
      "text/plain": [
       "                     name       lat        lon   ele  \\\n",
       "1  2022-06-07 13:46:24j22 -7.517397 -34.967164  89.0   \n",
       "2   2022-06-07 13:49:07m4 -7.517351 -34.967194  89.0   \n",
       "3  2022-06-07 13:50:24j13 -7.517413 -34.967114  89.0   \n",
       "4   2022-06-07 13:53:31m4 -7.517787 -34.967158  84.0   \n",
       "5   2022-06-07 13:54:10m4 -7.517740 -34.967198  84.0   \n",
       "\n",
       "                     geometry  \n",
       "1  POINT (-34.96716 -7.51740)  \n",
       "2  POINT (-34.96719 -7.51735)  \n",
       "3  POINT (-34.96711 -7.51741)  \n",
       "4  POINT (-34.96716 -7.51779)  \n",
       "5  POINT (-34.96720 -7.51774)  "
      ]
     },
     "execution_count": 65,
     "metadata": {},
     "output_type": "execute_result"
    }
   ],
   "source": [
    "# Convert to geodataframe for geographic use\n",
    "import geopandas as gpd\n",
    "\n",
    "gdf = gpd.GeoDataFrame(\n",
    "    df, geometry=gpd.points_from_xy(df.lon, df.lat))\n",
    "\n",
    "gdf.head()"
   ]
  },
  {
   "cell_type": "code",
   "execution_count": null,
   "metadata": {},
   "outputs": [],
   "source": [
    "# Ask for observer, group, climate conditions\n"
   ]
  },
  {
   "cell_type": "code",
   "execution_count": null,
   "metadata": {},
   "outputs": [],
   "source": [
    "# Split 'name' into Time, Age/Sex, Strata Position, and Behaviour\n"
   ]
  },
  {
   "cell_type": "code",
   "execution_count": null,
   "metadata": {},
   "outputs": [],
   "source": [
    "# Attempt to detect each scan, else create column for scan number\n"
   ]
  },
  {
   "cell_type": "code",
   "execution_count": 63,
   "metadata": {},
   "outputs": [
    {
     "name": "stdout",
     "output_type": "stream",
     "text": [
      "<class 'geopandas.geodataframe.GeoDataFrame'>\n",
      "RangeIndex: 66 entries, 1 to 66\n",
      "Data columns (total 5 columns):\n",
      " #   Column    Non-Null Count  Dtype   \n",
      "---  ------    --------------  -----   \n",
      " 0   lat       66 non-null     float64 \n",
      " 1   lon       66 non-null     float64 \n",
      " 2   ele       66 non-null     float64 \n",
      " 3   name      66 non-null     object  \n",
      " 4   geometry  66 non-null     geometry\n",
      "dtypes: float64(3), geometry(1), object(1)\n",
      "memory usage: 2.7+ KB\n"
     ]
    }
   ],
   "source": [
    "gdf.info()"
   ]
  },
  {
   "cell_type": "markdown",
   "metadata": {},
   "source": [
    "### Section 2"
   ]
  },
  {
   "cell_type": "code",
   "execution_count": 66,
   "metadata": {},
   "outputs": [
    {
     "data": {
      "text/plain": [
       "<AxesSubplot:>"
      ]
     },
     "execution_count": 66,
     "metadata": {},
     "output_type": "execute_result"
    },
    {
     "data": {
      "image/png": "[encoded data removed]",
      "text/plain": [
       "<Figure size 432x288 with 1 Axes>"
      ]
     },
     "metadata": {
      "needs_background": "light"
     },
     "output_type": "display_data"
    }
   ],
   "source": [
    "gdf.plot()"
   ]
  }
 ],
 "metadata": {
  "interpreter": {
   "hash": "721752d912caa1798787a48d49dc55f567da66e2c166f2b94012337a164a3121"
  },
  "kernelspec": {
   "display_name": "Python 3.8.10 ('venvScanAutomation': venv)",
   "language": "python",
   "name": "python3"
  },
  "language_info": {
   "codemirror_mode": {
    "name": "ipython",
    "version": 3
   },
   "file_extension": ".py",
   "mimetype": "text/x-python",
   "name": "python",
   "nbconvert_exporter": "python",
   "pygments_lexer": "ipython3",
   "version": "3.8.10"
  },
  "orig_nbformat": 4
 },
 "nbformat": 4,
 "nbformat_minor": 2
}
