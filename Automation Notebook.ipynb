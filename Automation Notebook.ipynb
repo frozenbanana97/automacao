{
 "cells": [
  {
   "cell_type": "markdown",
   "metadata": {},
   "source": [
    "### Automation Script Overhaul \n",
    "For automating the parsing, transformation, and geographic file creation from .GPX\n",
    "Work taken from the script by Isias (ler_gpx.py) and workflow by Simone. Further developments by Kyle & Isais. <br><br>\n",
    "Data collection must be done with Locus Map 4.x or formatted similarly to GPX files exportd by the map for this script to work."
   ]
  },
  {
   "cell_type": "markdown",
   "metadata": {},
   "source": [
    "### Section 1\n",
    "This section takes the raw GPX files and makes them ready for QGIS and statistical analysis."
   ]
  },
  {
   "cell_type": "code",
   "execution_count": 1,
   "metadata": {},
   "outputs": [
    {
     "name": "stdout",
     "output_type": "stream",
     "text": [
      "['GPX_Exports/20220607_Kyle.gpx']\n"
     ]
    }
   ],
   "source": [
    "#import dependiencies\n",
    "import gpxpy\n",
    "import pandas as pd\n",
    "import geopandas as gpd\n",
    "import numpy as np\n",
    "from glob import glob\n",
    "\n",
    "# see all GPX files from a saved directory\n",
    "gpxFiles = glob('GPX_Exports/*.gpx')\n",
    "print(gpxFiles)"
   ]
  },
  {
   "cell_type": "markdown",
   "metadata": {},
   "source": [
    "##### Choose the cell below for single file manipulation OR the cell two below for mass import and manipulation."
   ]
  },
  {
   "cell_type": "code",
   "execution_count": 2,
   "metadata": {},
   "outputs": [
    {
     "data": {
      "text/html": [
       "<div>\n",
       "<style scoped>\n",
       "    .dataframe tbody tr th:only-of-type {\n",
       "        vertical-align: middle;\n",
       "    }\n",
       "\n",
       "    .dataframe tbody tr th {\n",
       "        vertical-align: top;\n",
       "    }\n",
       "\n",
       "    .dataframe thead th {\n",
       "        text-align: right;\n",
       "    }\n",
       "</style>\n",
       "<table border=\"1\" class=\"dataframe\">\n",
       "  <thead>\n",
       "    <tr style=\"text-align: right;\">\n",
       "      <th></th>\n",
       "      <th>name</th>\n",
       "      <th>lat</th>\n",
       "      <th>lon</th>\n",
       "      <th>ele</th>\n",
       "    </tr>\n",
       "  </thead>\n",
       "  <tbody>\n",
       "    <tr>\n",
       "      <th>1</th>\n",
       "      <td>2022-06-07 13:46:24j22</td>\n",
       "      <td>-7.517397</td>\n",
       "      <td>-34.967164</td>\n",
       "      <td>89.0</td>\n",
       "    </tr>\n",
       "    <tr>\n",
       "      <th>2</th>\n",
       "      <td>2022-06-07 13:49:07m4</td>\n",
       "      <td>-7.517351</td>\n",
       "      <td>-34.967194</td>\n",
       "      <td>89.0</td>\n",
       "    </tr>\n",
       "    <tr>\n",
       "      <th>3</th>\n",
       "      <td>2022-06-07 13:50:24j13</td>\n",
       "      <td>-7.517413</td>\n",
       "      <td>-34.967114</td>\n",
       "      <td>89.0</td>\n",
       "    </tr>\n",
       "    <tr>\n",
       "      <th>4</th>\n",
       "      <td>2022-06-07 13:53:31m4</td>\n",
       "      <td>-7.517787</td>\n",
       "      <td>-34.967158</td>\n",
       "      <td>84.0</td>\n",
       "    </tr>\n",
       "    <tr>\n",
       "      <th>5</th>\n",
       "      <td>2022-06-07 13:54:10m4</td>\n",
       "      <td>-7.517740</td>\n",
       "      <td>-34.967198</td>\n",
       "      <td>84.0</td>\n",
       "    </tr>\n",
       "  </tbody>\n",
       "</table>\n",
       "</div>"
      ],
      "text/plain": [
       "                     name       lat        lon   ele\n",
       "1  2022-06-07 13:46:24j22 -7.517397 -34.967164  89.0\n",
       "2   2022-06-07 13:49:07m4 -7.517351 -34.967194  89.0\n",
       "3  2022-06-07 13:50:24j13 -7.517413 -34.967114  89.0\n",
       "4   2022-06-07 13:53:31m4 -7.517787 -34.967158  84.0\n",
       "5   2022-06-07 13:54:10m4 -7.517740 -34.967198  84.0"
      ]
     },
     "execution_count": 2,
     "metadata": {},
     "output_type": "execute_result"
    }
   ],
   "source": [
    "# Choose which file to use, select (using 0-n) the gpx file to manipulate / Escolha qual arquivo usar, selecione (usando 0-n) o arquivo gpx para manipular\n",
    "gpxCurrent = gpxFiles[0]\n",
    "gpxCurrent = open(gpxCurrent)\n",
    "gpxCurrent = gpxpy.parse(gpxCurrent)\n",
    "gpxCurrent = gpxCurrent.to_xml()\n",
    "\n",
    "# Read the XML into a dataframe, remove unnecessary columns, and shift columns / Leia o XML em um dataframe, remova colunas desnecessárias e desloque colunas\n",
    "df = pd.read_xml(gpxCurrent)\n",
    "df.pop('desc')\n",
    "df.pop('hdop')\n",
    "df.pop('time')\n",
    "df = df.drop(index=0)\n",
    "shiftPos = df.pop('name')\n",
    "df.insert(0, 'name', shiftPos)\n",
    "df.head()"
   ]
  },
  {
   "cell_type": "code",
   "execution_count": null,
   "metadata": {},
   "outputs": [],
   "source": [
    "# Merge all GPX files in directory / Mesclar todos os arquivos GPX no diretório\n"
   ]
  },
  {
   "cell_type": "code",
   "execution_count": 3,
   "metadata": {},
   "outputs": [
    {
     "data": {
      "text/html": [
       "<div>\n",
       "<style scoped>\n",
       "    .dataframe tbody tr th:only-of-type {\n",
       "        vertical-align: middle;\n",
       "    }\n",
       "\n",
       "    .dataframe tbody tr th {\n",
       "        vertical-align: top;\n",
       "    }\n",
       "\n",
       "    .dataframe thead th {\n",
       "        text-align: right;\n",
       "    }\n",
       "</style>\n",
       "<table border=\"1\" class=\"dataframe\">\n",
       "  <thead>\n",
       "    <tr style=\"text-align: right;\">\n",
       "      <th></th>\n",
       "      <th>name</th>\n",
       "      <th>lat</th>\n",
       "      <th>lon</th>\n",
       "      <th>ele</th>\n",
       "      <th>geometry</th>\n",
       "    </tr>\n",
       "  </thead>\n",
       "  <tbody>\n",
       "    <tr>\n",
       "      <th>1</th>\n",
       "      <td>2022-06-07 13:46:24j22</td>\n",
       "      <td>-7.517397</td>\n",
       "      <td>-34.967164</td>\n",
       "      <td>89.0</td>\n",
       "      <td>POINT (-34.96716 -7.51740)</td>\n",
       "    </tr>\n",
       "    <tr>\n",
       "      <th>2</th>\n",
       "      <td>2022-06-07 13:49:07m4</td>\n",
       "      <td>-7.517351</td>\n",
       "      <td>-34.967194</td>\n",
       "      <td>89.0</td>\n",
       "      <td>POINT (-34.96719 -7.51735)</td>\n",
       "    </tr>\n",
       "    <tr>\n",
       "      <th>3</th>\n",
       "      <td>2022-06-07 13:50:24j13</td>\n",
       "      <td>-7.517413</td>\n",
       "      <td>-34.967114</td>\n",
       "      <td>89.0</td>\n",
       "      <td>POINT (-34.96711 -7.51741)</td>\n",
       "    </tr>\n",
       "    <tr>\n",
       "      <th>4</th>\n",
       "      <td>2022-06-07 13:53:31m4</td>\n",
       "      <td>-7.517787</td>\n",
       "      <td>-34.967158</td>\n",
       "      <td>84.0</td>\n",
       "      <td>POINT (-34.96716 -7.51779)</td>\n",
       "    </tr>\n",
       "    <tr>\n",
       "      <th>5</th>\n",
       "      <td>2022-06-07 13:54:10m4</td>\n",
       "      <td>-7.517740</td>\n",
       "      <td>-34.967198</td>\n",
       "      <td>84.0</td>\n",
       "      <td>POINT (-34.96720 -7.51774)</td>\n",
       "    </tr>\n",
       "  </tbody>\n",
       "</table>\n",
       "</div>"
      ],
      "text/plain": [
       "                     name       lat        lon   ele  \\\n",
       "1  2022-06-07 13:46:24j22 -7.517397 -34.967164  89.0   \n",
       "2   2022-06-07 13:49:07m4 -7.517351 -34.967194  89.0   \n",
       "3  2022-06-07 13:50:24j13 -7.517413 -34.967114  89.0   \n",
       "4   2022-06-07 13:53:31m4 -7.517787 -34.967158  84.0   \n",
       "5   2022-06-07 13:54:10m4 -7.517740 -34.967198  84.0   \n",
       "\n",
       "                     geometry  \n",
       "1  POINT (-34.96716 -7.51740)  \n",
       "2  POINT (-34.96719 -7.51735)  \n",
       "3  POINT (-34.96711 -7.51741)  \n",
       "4  POINT (-34.96716 -7.51779)  \n",
       "5  POINT (-34.96720 -7.51774)  "
      ]
     },
     "execution_count": 3,
     "metadata": {},
     "output_type": "execute_result"
    }
   ],
   "source": [
    "# Convert to geodataframe for geographic use / Converter para geodataframe para uso geográfico\n",
    "import geopandas as gpd\n",
    "\n",
    "gdf = gpd.GeoDataFrame(\n",
    "    df, geometry=gpd.points_from_xy(df.lon, df.lat)) # if Z is wanted for the points, add / se Z for desejado para os pontos, adicione ', df.ele' ex. (df.lon, df.lat, df.ele)\n",
    "gdf = gdf.set_crs('EPSG:4326')\n",
    "gdf.head()"
   ]
  },
  {
   "cell_type": "code",
   "execution_count": 4,
   "metadata": {},
   "outputs": [
    {
     "name": "stdout",
     "output_type": "stream",
     "text": [
      "Observer/Observador: kyle\n",
      "Group/Grupo: 0\n",
      "Weather/Tempo: good\n"
     ]
    }
   ],
   "source": [
    "# Ask for observer, group, climate conditions / Pergunte por observador, grupo, condições climáticas\n",
    "observer = input('Observer/Observador? ')\n",
    "group = input('Group/Grupo? (if both, mark 0) ') # or leave blank?\n",
    "weather = input('Weather conditions/Condição do clima? ')\n",
    "print('Observer/Observador: '+observer)\n",
    "print('Group/Grupo: '+group)\n",
    "print('Weather/Tempo: '+weather)"
   ]
  },
  {
   "cell_type": "code",
   "execution_count": 5,
   "metadata": {},
   "outputs": [
    {
     "data": {
      "text/html": [
       "<div>\n",
       "<style scoped>\n",
       "    .dataframe tbody tr th:only-of-type {\n",
       "        vertical-align: middle;\n",
       "    }\n",
       "\n",
       "    .dataframe tbody tr th {\n",
       "        vertical-align: top;\n",
       "    }\n",
       "\n",
       "    .dataframe thead th {\n",
       "        text-align: right;\n",
       "    }\n",
       "</style>\n",
       "<table border=\"1\" class=\"dataframe\">\n",
       "  <thead>\n",
       "    <tr style=\"text-align: right;\">\n",
       "      <th></th>\n",
       "      <th>name</th>\n",
       "      <th>weather</th>\n",
       "      <th>group</th>\n",
       "      <th>observer</th>\n",
       "      <th>lat</th>\n",
       "      <th>lon</th>\n",
       "      <th>ele</th>\n",
       "      <th>geometry</th>\n",
       "    </tr>\n",
       "  </thead>\n",
       "  <tbody>\n",
       "    <tr>\n",
       "      <th>1</th>\n",
       "      <td>2022-06-07 13:46:24j22</td>\n",
       "      <td>good</td>\n",
       "      <td>0</td>\n",
       "      <td>kyle</td>\n",
       "      <td>-7.517397</td>\n",
       "      <td>-34.967164</td>\n",
       "      <td>89.0</td>\n",
       "      <td>POINT (-34.96716 -7.51740)</td>\n",
       "    </tr>\n",
       "    <tr>\n",
       "      <th>2</th>\n",
       "      <td>2022-06-07 13:49:07m4</td>\n",
       "      <td>good</td>\n",
       "      <td>0</td>\n",
       "      <td>kyle</td>\n",
       "      <td>-7.517351</td>\n",
       "      <td>-34.967194</td>\n",
       "      <td>89.0</td>\n",
       "      <td>POINT (-34.96719 -7.51735)</td>\n",
       "    </tr>\n",
       "    <tr>\n",
       "      <th>3</th>\n",
       "      <td>2022-06-07 13:50:24j13</td>\n",
       "      <td>good</td>\n",
       "      <td>0</td>\n",
       "      <td>kyle</td>\n",
       "      <td>-7.517413</td>\n",
       "      <td>-34.967114</td>\n",
       "      <td>89.0</td>\n",
       "      <td>POINT (-34.96711 -7.51741)</td>\n",
       "    </tr>\n",
       "    <tr>\n",
       "      <th>4</th>\n",
       "      <td>2022-06-07 13:53:31m4</td>\n",
       "      <td>good</td>\n",
       "      <td>0</td>\n",
       "      <td>kyle</td>\n",
       "      <td>-7.517787</td>\n",
       "      <td>-34.967158</td>\n",
       "      <td>84.0</td>\n",
       "      <td>POINT (-34.96716 -7.51779)</td>\n",
       "    </tr>\n",
       "    <tr>\n",
       "      <th>5</th>\n",
       "      <td>2022-06-07 13:54:10m4</td>\n",
       "      <td>good</td>\n",
       "      <td>0</td>\n",
       "      <td>kyle</td>\n",
       "      <td>-7.517740</td>\n",
       "      <td>-34.967198</td>\n",
       "      <td>84.0</td>\n",
       "      <td>POINT (-34.96720 -7.51774)</td>\n",
       "    </tr>\n",
       "  </tbody>\n",
       "</table>\n",
       "</div>"
      ],
      "text/plain": [
       "                     name weather group observer       lat        lon   ele  \\\n",
       "1  2022-06-07 13:46:24j22    good     0     kyle -7.517397 -34.967164  89.0   \n",
       "2   2022-06-07 13:49:07m4    good     0     kyle -7.517351 -34.967194  89.0   \n",
       "3  2022-06-07 13:50:24j13    good     0     kyle -7.517413 -34.967114  89.0   \n",
       "4   2022-06-07 13:53:31m4    good     0     kyle -7.517787 -34.967158  84.0   \n",
       "5   2022-06-07 13:54:10m4    good     0     kyle -7.517740 -34.967198  84.0   \n",
       "\n",
       "                     geometry  \n",
       "1  POINT (-34.96716 -7.51740)  \n",
       "2  POINT (-34.96719 -7.51735)  \n",
       "3  POINT (-34.96711 -7.51741)  \n",
       "4  POINT (-34.96716 -7.51779)  \n",
       "5  POINT (-34.96720 -7.51774)  "
      ]
     },
     "execution_count": 5,
     "metadata": {},
     "output_type": "execute_result"
    }
   ],
   "source": [
    "# If the above is correct, continue here. If not, re-run the cell and correct the information\n",
    "# Se o acima estiver correto, continue aqui. Caso contrário, execute novamente a célula e corrija as informações\n",
    "\n",
    "# Add the input to the dataframe\n",
    "gdf.insert(loc=1, column='observer', value=observer, allow_duplicates=True)\n",
    "gdf.insert(loc=1, column='group', value=group, allow_duplicates=True)\n",
    "gdf.insert(loc=1, column='weather', value=weather, allow_duplicates=True)\n",
    "gdf.head()"
   ]
  },
  {
   "cell_type": "code",
   "execution_count": 6,
   "metadata": {},
   "outputs": [
    {
     "data": {
      "text/html": [
       "<div>\n",
       "<style scoped>\n",
       "    .dataframe tbody tr th:only-of-type {\n",
       "        vertical-align: middle;\n",
       "    }\n",
       "\n",
       "    .dataframe tbody tr th {\n",
       "        vertical-align: top;\n",
       "    }\n",
       "\n",
       "    .dataframe thead th {\n",
       "        text-align: right;\n",
       "    }\n",
       "</style>\n",
       "<table border=\"1\" class=\"dataframe\">\n",
       "  <thead>\n",
       "    <tr style=\"text-align: right;\">\n",
       "      <th></th>\n",
       "      <th>date</th>\n",
       "      <th>time</th>\n",
       "      <th>observations</th>\n",
       "      <th>weather</th>\n",
       "      <th>group</th>\n",
       "      <th>observer</th>\n",
       "      <th>lat</th>\n",
       "      <th>lon</th>\n",
       "      <th>ele</th>\n",
       "      <th>geometry</th>\n",
       "    </tr>\n",
       "  </thead>\n",
       "  <tbody>\n",
       "    <tr>\n",
       "      <th>1</th>\n",
       "      <td>2022-06-07</td>\n",
       "      <td>13:46:24</td>\n",
       "      <td>j22</td>\n",
       "      <td>good</td>\n",
       "      <td>0</td>\n",
       "      <td>kyle</td>\n",
       "      <td>-7.517397</td>\n",
       "      <td>-34.967164</td>\n",
       "      <td>89.0</td>\n",
       "      <td>POINT (-34.96716 -7.51740)</td>\n",
       "    </tr>\n",
       "    <tr>\n",
       "      <th>2</th>\n",
       "      <td>2022-06-07</td>\n",
       "      <td>13:49:07</td>\n",
       "      <td>m4</td>\n",
       "      <td>good</td>\n",
       "      <td>0</td>\n",
       "      <td>kyle</td>\n",
       "      <td>-7.517351</td>\n",
       "      <td>-34.967194</td>\n",
       "      <td>89.0</td>\n",
       "      <td>POINT (-34.96719 -7.51735)</td>\n",
       "    </tr>\n",
       "    <tr>\n",
       "      <th>3</th>\n",
       "      <td>2022-06-07</td>\n",
       "      <td>13:50:24</td>\n",
       "      <td>j13</td>\n",
       "      <td>good</td>\n",
       "      <td>0</td>\n",
       "      <td>kyle</td>\n",
       "      <td>-7.517413</td>\n",
       "      <td>-34.967114</td>\n",
       "      <td>89.0</td>\n",
       "      <td>POINT (-34.96711 -7.51741)</td>\n",
       "    </tr>\n",
       "    <tr>\n",
       "      <th>4</th>\n",
       "      <td>2022-06-07</td>\n",
       "      <td>13:53:31</td>\n",
       "      <td>m4</td>\n",
       "      <td>good</td>\n",
       "      <td>0</td>\n",
       "      <td>kyle</td>\n",
       "      <td>-7.517787</td>\n",
       "      <td>-34.967158</td>\n",
       "      <td>84.0</td>\n",
       "      <td>POINT (-34.96716 -7.51779)</td>\n",
       "    </tr>\n",
       "    <tr>\n",
       "      <th>5</th>\n",
       "      <td>2022-06-07</td>\n",
       "      <td>13:54:10</td>\n",
       "      <td>m4</td>\n",
       "      <td>good</td>\n",
       "      <td>0</td>\n",
       "      <td>kyle</td>\n",
       "      <td>-7.517740</td>\n",
       "      <td>-34.967198</td>\n",
       "      <td>84.0</td>\n",
       "      <td>POINT (-34.96720 -7.51774)</td>\n",
       "    </tr>\n",
       "  </tbody>\n",
       "</table>\n",
       "</div>"
      ],
      "text/plain": [
       "         date      time observations weather group observer       lat  \\\n",
       "1  2022-06-07  13:46:24          j22    good     0     kyle -7.517397   \n",
       "2  2022-06-07  13:49:07           m4    good     0     kyle -7.517351   \n",
       "3  2022-06-07  13:50:24          j13    good     0     kyle -7.517413   \n",
       "4  2022-06-07  13:53:31           m4    good     0     kyle -7.517787   \n",
       "5  2022-06-07  13:54:10           m4    good     0     kyle -7.517740   \n",
       "\n",
       "         lon   ele                    geometry  \n",
       "1 -34.967164  89.0  POINT (-34.96716 -7.51740)  \n",
       "2 -34.967194  89.0  POINT (-34.96719 -7.51735)  \n",
       "3 -34.967114  89.0  POINT (-34.96711 -7.51741)  \n",
       "4 -34.967158  84.0  POINT (-34.96716 -7.51779)  \n",
       "5 -34.967198  84.0  POINT (-34.96720 -7.51774)  "
      ]
     },
     "execution_count": 6,
     "metadata": {},
     "output_type": "execute_result"
    }
   ],
   "source": [
    "# Split 'name' into date, time, and observations / Dividir 'nome' em data, hora e observações\n",
    "\n",
    "date = gdf['name'].str[:10]\n",
    "gdf.insert(loc=0, column='date', value=date, allow_duplicates=True)\n",
    "\n",
    "time = gdf['name'].str[11:19]\n",
    "gdf.insert(loc=1, column='time', value=time, allow_duplicates=True)\n",
    "\n",
    "obs = gdf['name'].str[19:]\n",
    "gdf.insert(loc=2, column='observations', value=obs, allow_duplicates=True)\n",
    "\n",
    "gdf.pop('name')\n",
    "\n",
    "gdf.head()"
   ]
  },
  {
   "cell_type": "code",
   "execution_count": 7,
   "metadata": {},
   "outputs": [],
   "source": [
    "# split observations into Age/Sex, Strata position, and behaviour\n",
    "ageSex = ''\n",
    "strata = ''\n",
    "behaviour = ''\n",
    "gdf.insert(loc=2, column='age/sex', value=ageSex, allow_duplicates=True)\n",
    "gdf.insert(loc=3, column='strata', value=strata, allow_duplicates=True)\n",
    "gdf.insert(loc=4, column='behaviour', value=behaviour, allow_duplicates=True)"
   ]
  },
  {
   "cell_type": "code",
   "execution_count": 13,
   "metadata": {},
   "outputs": [
    {
     "ename": "ValueError",
     "evalue": "The truth value of a Series is ambiguous. Use a.empty, a.bool(), a.item(), a.any() or a.all().",
     "output_type": "error",
     "traceback": [
      "\u001b[0;31m---------------------------------------------------------------------------\u001b[0m",
      "\u001b[0;31mValueError\u001b[0m                                Traceback (most recent call last)",
      "\u001b[1;32m/home/kyle/Nextcloud/Monkey Research/Data_Work/automacao/Automation Notebook.ipynb Cell 12'\u001b[0m in \u001b[0;36m<cell line: 1>\u001b[0;34m()\u001b[0m\n\u001b[1;32m      <a href='vscode-notebook-cell:/home/kyle/Nextcloud/Monkey%20Research/Data_Work/automacao/Automation%20Notebook.ipynb#ch0000018?line=0'>1</a>\u001b[0m \u001b[39mfor\u001b[39;00m i, row \u001b[39min\u001b[39;00m gdf\u001b[39m.\u001b[39miterrows():\n\u001b[1;32m      <a href='vscode-notebook-cell:/home/kyle/Nextcloud/Monkey%20Research/Data_Work/automacao/Automation%20Notebook.ipynb#ch0000018?line=1'>2</a>\u001b[0m         \u001b[39m# asSubstring = gdf['observations'].str[:2]\u001b[39;00m\n\u001b[0;32m----> <a href='vscode-notebook-cell:/home/kyle/Nextcloud/Monkey%20Research/Data_Work/automacao/Automation%20Notebook.ipynb#ch0000018?line=2'>3</a>\u001b[0m         \u001b[39mif\u001b[39;00m gdf[\u001b[39m'\u001b[39m\u001b[39mobservations\u001b[39m\u001b[39m'\u001b[39m]\u001b[39m.\u001b[39mstr[:\u001b[39m2\u001b[39m] \u001b[39m==\u001b[39m \u001b[39m'\u001b[39m\u001b[39mj2\u001b[39m\u001b[39m'\u001b[39m:\n\u001b[1;32m      <a href='vscode-notebook-cell:/home/kyle/Nextcloud/Monkey%20Research/Data_Work/automacao/Automation%20Notebook.ipynb#ch0000018?line=3'>4</a>\u001b[0m                 ageSex \u001b[39m=\u001b[39m \u001b[39m'\u001b[39m\u001b[39mJuvenile 2\u001b[39m\u001b[39m'\u001b[39m\n\u001b[1;32m      <a href='vscode-notebook-cell:/home/kyle/Nextcloud/Monkey%20Research/Data_Work/automacao/Automation%20Notebook.ipynb#ch0000018?line=4'>5</a>\u001b[0m                 strata \u001b[39m=\u001b[39m gdf[\u001b[39m'\u001b[39m\u001b[39mobservations\u001b[39m\u001b[39m'\u001b[39m]\u001b[39m.\u001b[39mstr[\u001b[39m2\u001b[39m]\n",
      "File \u001b[0;32m~/Nextcloud/Monkey Research/Data_Work/automacao/venvScanAutomation/lib/python3.8/site-packages/pandas/core/generic.py:1527\u001b[0m, in \u001b[0;36mNDFrame.__nonzero__\u001b[0;34m(self)\u001b[0m\n\u001b[1;32m   <a href='file:///home/kyle/Nextcloud/Monkey%20Research/Data_Work/automacao/venvScanAutomation/lib/python3.8/site-packages/pandas/core/generic.py?line=1524'>1525</a>\u001b[0m \u001b[39m@final\u001b[39m\n\u001b[1;32m   <a href='file:///home/kyle/Nextcloud/Monkey%20Research/Data_Work/automacao/venvScanAutomation/lib/python3.8/site-packages/pandas/core/generic.py?line=1525'>1526</a>\u001b[0m \u001b[39mdef\u001b[39;00m \u001b[39m__nonzero__\u001b[39m(\u001b[39mself\u001b[39m):\n\u001b[0;32m-> <a href='file:///home/kyle/Nextcloud/Monkey%20Research/Data_Work/automacao/venvScanAutomation/lib/python3.8/site-packages/pandas/core/generic.py?line=1526'>1527</a>\u001b[0m     \u001b[39mraise\u001b[39;00m \u001b[39mValueError\u001b[39;00m(\n\u001b[1;32m   <a href='file:///home/kyle/Nextcloud/Monkey%20Research/Data_Work/automacao/venvScanAutomation/lib/python3.8/site-packages/pandas/core/generic.py?line=1527'>1528</a>\u001b[0m         \u001b[39mf\u001b[39m\u001b[39m\"\u001b[39m\u001b[39mThe truth value of a \u001b[39m\u001b[39m{\u001b[39;00m\u001b[39mtype\u001b[39m(\u001b[39mself\u001b[39m)\u001b[39m.\u001b[39m\u001b[39m__name__\u001b[39m\u001b[39m}\u001b[39;00m\u001b[39m is ambiguous. \u001b[39m\u001b[39m\"\u001b[39m\n\u001b[1;32m   <a href='file:///home/kyle/Nextcloud/Monkey%20Research/Data_Work/automacao/venvScanAutomation/lib/python3.8/site-packages/pandas/core/generic.py?line=1528'>1529</a>\u001b[0m         \u001b[39m\"\u001b[39m\u001b[39mUse a.empty, a.bool(), a.item(), a.any() or a.all().\u001b[39m\u001b[39m\"\u001b[39m\n\u001b[1;32m   <a href='file:///home/kyle/Nextcloud/Monkey%20Research/Data_Work/automacao/venvScanAutomation/lib/python3.8/site-packages/pandas/core/generic.py?line=1529'>1530</a>\u001b[0m     )\n",
      "\u001b[0;31mValueError\u001b[0m: The truth value of a Series is ambiguous. Use a.empty, a.bool(), a.item(), a.any() or a.all()."
     ]
    }
   ],
   "source": [
    "for i, row in gdf.iterrows():\n",
    "        # asSubstring = gdf['observations'].str[:2]\n",
    "        if gdf['observations'].str[:2] == 'j2':\n",
    "                ageSex = 'Juvenile 2'\n",
    "                strata = gdf['observations'].str[2]\n",
    "                behaviour = gdf['observations'].str[3:]\n",
    "                gdf['age/sex']=ageSex\n",
    "                gdf['strata']=strata\n",
    "                gdf['behaviour']=behaviour\n",
    "                \n",
    "\n",
    "gdf.head()"
   ]
  },
  {
   "cell_type": "code",
   "execution_count": null,
   "metadata": {},
   "outputs": [],
   "source": [
    "gdf['age/sex'] = gdf['observations'].str.extract(['j2'])\n",
    "gdf.head()"
   ]
  },
  {
   "cell_type": "code",
   "execution_count": null,
   "metadata": {},
   "outputs": [],
   "source": [
    "# Attempt to detect each scan, else create column for scan number / Tente detectar cada varredura, senão crie uma coluna para o número da varredura\n"
   ]
  },
  {
   "cell_type": "code",
   "execution_count": null,
   "metadata": {},
   "outputs": [],
   "source": [
    "# Export data frame to gpkg for use in QGIS / Exportar quadro de dados para gpkg para uso no QGIS\n",
    "gdf.to_file('gdf.gpkg', driver=\"GPKG\")\n",
    "gdf.info()"
   ]
  },
  {
   "cell_type": "markdown",
   "metadata": {},
   "source": [
    "### Section 2"
   ]
  },
  {
   "cell_type": "code",
   "execution_count": null,
   "metadata": {},
   "outputs": [],
   "source": [
    "gdf.plot()"
   ]
  }
 ],
 "metadata": {
  "interpreter": {
   "hash": "721752d912caa1798787a48d49dc55f567da66e2c166f2b94012337a164a3121"
  },
  "kernelspec": {
   "display_name": "Python 3.8.10 ('venvScanAutomation': venv)",
   "language": "python",
   "name": "python3"
  },
  "language_info": {
   "codemirror_mode": {
    "name": "ipython",
    "version": 3
   },
   "file_extension": ".py",
   "mimetype": "text/x-python",
   "name": "python",
   "nbconvert_exporter": "python",
   "pygments_lexer": "ipython3",
   "version": "3.8.10"
  },
  "orig_nbformat": 4
 },
 "nbformat": 4,
 "nbformat_minor": 2
}
